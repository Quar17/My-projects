{
 "cells": [
  {
   "cell_type": "code",
   "execution_count": 1,
   "metadata": {},
   "outputs": [],
   "source": [
    "import matplotlib.pyplot as plt\n",
    "import numpy as np\n",
    "import pandas as pd\n"
   ]
  },
  {
   "cell_type": "code",
   "execution_count": 22,
   "metadata": {},
   "outputs": [
    {
     "data": {
      "image/png": "[encoded data removed]",
      "text/plain": [
       "<Figure size 432x288 with 1 Axes>"
      ]
     },
     "metadata": {
      "needs_background": "light"
     },
     "output_type": "display_data"
    }
   ],
   "source": [
    "#example 1\n",
    "dictionary1 = {'a': np.linspace(-5, 15, 50), 'c': np.random.randint(0,50,50), 'd': np.abs(np.random.randn(50))*100}\n",
    "#creating a new ditionary key-value pair \n",
    "dictionary1['b'] = dictionary1['a'] * np.random.rand(50) * 100\n",
    "#dictionary1\n",
    "plt.scatter('a','b', c='r',s='d',data=dictionary1)\n",
    "plt.show()"
   ]
  },
  {
   "cell_type": "code",
   "execution_count": 51,
   "metadata": {},
   "outputs": [
    {
     "data": {
      "image/png": "[encoded data removed]",
      "text/plain": [
       "<Figure size 432x288 with 1 Axes>"
      ]
     },
     "metadata": {
      "needs_background": "light"
     },
     "output_type": "display_data"
    }
   ],
   "source": [
    "list_x = [1,2,3,4,5,6,7,8,9,10]\n",
    "list_y = [23,45,12,14,56,34,23,23,45,67]\n",
    "size_of_points = [list_x * np.random.randint(1,40,size=10)]\n",
    "color_of_points = np.random.rand(10)\n",
    "#size_of_points\n",
    "\n",
    "plt.scatter(list_x, list_y, s=size_of_points, c=color_of_points)\n",
    "plt.xlabel(\"Elements of list_x\")\n",
    "plt.ylabel(\"Elements of list_y\")\n",
    "plt.title(\"Wykres\")\n",
    "plt.show()"
   ]
  },
  {
   "cell_type": "code",
   "execution_count": 48,
   "metadata": {},
   "outputs": [
    {
     "data": {
      "text/plain": [
       "(array([[0.50348269, 0.83741708, 0.9833475 , 0.41892169, 0.41215609,\n",
       "         0.2638012 , 0.34235007, 0.38826845, 0.43999093, 0.80957901]]),\n",
       " array([34, 56, 45, 65, 90, 49, 33, 54, 57, 56, 78, 88, 95, 95, 50]))"
      ]
     },
     "execution_count": 48,
     "metadata": {},
     "output_type": "execute_result"
    }
   ],
   "source": [
    "a = np.random.rand(1,10)\n",
    "b = np.random.randint(30, 100, 15)\n",
    "a,b"
   ]
  },
  {
   "cell_type": "code",
   "execution_count": 59,
   "metadata": {},
   "outputs": [
    {
     "data": {
      "text/html": [
       "<div>\n",
       "<style scoped>\n",
       "    .dataframe tbody tr th:only-of-type {\n",
       "        vertical-align: middle;\n",
       "    }\n",
       "\n",
       "    .dataframe tbody tr th {\n",
       "        vertical-align: top;\n",
       "    }\n",
       "\n",
       "    .dataframe thead th {\n",
       "        text-align: right;\n",
       "    }\n",
       "</style>\n",
       "<table border=\"1\" class=\"dataframe\">\n",
       "  <thead>\n",
       "    <tr style=\"text-align: right;\">\n",
       "      <th></th>\n",
       "      <th>Column1</th>\n",
       "      <th>Column2</th>\n",
       "    </tr>\n",
       "  </thead>\n",
       "  <tbody>\n",
       "    <tr>\n",
       "      <th>0</th>\n",
       "      <td>56</td>\n",
       "      <td>7</td>\n",
       "    </tr>\n",
       "    <tr>\n",
       "      <th>1</th>\n",
       "      <td>23</td>\n",
       "      <td>9</td>\n",
       "    </tr>\n",
       "    <tr>\n",
       "      <th>2</th>\n",
       "      <td>66</td>\n",
       "      <td>61</td>\n",
       "    </tr>\n",
       "    <tr>\n",
       "      <th>3</th>\n",
       "      <td>12</td>\n",
       "      <td>97</td>\n",
       "    </tr>\n",
       "    <tr>\n",
       "      <th>4</th>\n",
       "      <td>62</td>\n",
       "      <td>32</td>\n",
       "    </tr>\n",
       "    <tr>\n",
       "      <th>...</th>\n",
       "      <td>...</td>\n",
       "      <td>...</td>\n",
       "    </tr>\n",
       "    <tr>\n",
       "      <th>95</th>\n",
       "      <td>65</td>\n",
       "      <td>13</td>\n",
       "    </tr>\n",
       "    <tr>\n",
       "      <th>96</th>\n",
       "      <td>69</td>\n",
       "      <td>66</td>\n",
       "    </tr>\n",
       "    <tr>\n",
       "      <th>97</th>\n",
       "      <td>21</td>\n",
       "      <td>75</td>\n",
       "    </tr>\n",
       "    <tr>\n",
       "      <th>98</th>\n",
       "      <td>31</td>\n",
       "      <td>34</td>\n",
       "    </tr>\n",
       "    <tr>\n",
       "      <th>99</th>\n",
       "      <td>59</td>\n",
       "      <td>63</td>\n",
       "    </tr>\n",
       "  </tbody>\n",
       "</table>\n",
       "<p>100 rows × 2 columns</p>\n",
       "</div>"
      ],
      "text/plain": [
       "    Column1  Column2\n",
       "0        56        7\n",
       "1        23        9\n",
       "2        66       61\n",
       "3        12       97\n",
       "4        62       32\n",
       "..      ...      ...\n",
       "95       65       13\n",
       "96       69       66\n",
       "97       21       75\n",
       "98       31       34\n",
       "99       59       63\n",
       "\n",
       "[100 rows x 2 columns]"
      ]
     },
     "execution_count": 59,
     "metadata": {},
     "output_type": "execute_result"
    }
   ],
   "source": [
    "list1 = np.random.randint(1,100, size=100)\n",
    "list2 = np.random.randint(1,100,size=100)\n",
    "#list1,list2\n",
    "\n",
    "data = {'Column1':list1, 'Column2':list2}\n",
    "\n",
    "df1 = pd.DataFrame(data)\n",
    "df1"
   ]
  },
  {
   "cell_type": "code",
   "execution_count": 64,
   "metadata": {},
   "outputs": [
    {
     "data": {
      "text/plain": [
       "RangeIndex(start=0, stop=100, step=1)"
      ]
     },
     "execution_count": 64,
     "metadata": {},
     "output_type": "execute_result"
    }
   ],
   "source": [
    "df1.index"
   ]
  },
  {
   "cell_type": "code",
   "execution_count": 65,
   "metadata": {},
   "outputs": [
    {
     "name": "stderr",
     "output_type": "stream",
     "text": [
      "c:\\Python310\\lib\\site-packages\\pandas\\plotting\\_matplotlib\\core.py:1070: UserWarning: No data for colormapping provided via 'c'. Parameters 'cmap' will be ignored\n",
      "  scatter = ax.scatter(\n"
     ]
    },
    {
     "data": {
      "text/plain": [
       "<AxesSubplot: xlabel='Column1', ylabel='Column2'>"
      ]
     },
     "execution_count": 65,
     "metadata": {},
     "output_type": "execute_result"
    },
    {
     "data": {
      "image/png": "[encoded data removed]",
      "text/plain": [
       "<Figure size 432x288 with 1 Axes>"
      ]
     },
     "metadata": {
      "needs_background": "light"
     },
     "output_type": "display_data"
    }
   ],
   "source": [
    "df1.plot(x='Column1', y=\"Column2\", kind=\"scatter\")\n"
   ]
  },
  {
   "cell_type": "code",
   "execution_count": 68,
   "metadata": {},
   "outputs": [
    {
     "data": {
      "image/png": "[encoded data removed]",
      "text/plain": [
       "<Figure size 432x288 with 1 Axes>"
      ]
     },
     "metadata": {
      "needs_background": "light"
     },
     "output_type": "display_data"
    }
   ],
   "source": [
    "plt.scatter(x=df1['Column1'], y=df1['Column2'], c='r')\n",
    "plt.title(\"Chart related to random numbers\")\n",
    "plt.show()"
   ]
  },
  {
   "cell_type": "code",
   "execution_count": 71,
   "metadata": {},
   "outputs": [
    {
     "data": {
      "image/png": "[encoded data removed]",
      "text/plain": [
       "<Figure size 432x288 with 1 Axes>"
      ]
     },
     "metadata": {
      "needs_background": "light"
     },
     "output_type": "display_data"
    }
   ],
   "source": [
    "plt.scatter(x='Column1', y='Column2', c='r', data=data)    #data=data mówi maszynie skąd mają zostać wzięte dane dla osi x i osi y\n",
    "plt.title(\"Chart related to random numbers\")\n",
    "plt.show()"
   ]
  },
  {
   "cell_type": "code",
   "execution_count": 72,
   "metadata": {},
   "outputs": [
    {
     "data": {
      "image/png": "[encoded data removed]",
      "text/plain": [
       "<Figure size 432x288 with 1 Axes>"
      ]
     },
     "metadata": {
      "needs_background": "light"
     },
     "output_type": "display_data"
    }
   ],
   "source": [
    "#data values for creating histogram\n",
    "y = [95, 42, 79, 79, 11, 32, 42, 59, 95, 95, 95, 17, 28, 44]\n",
    "#creating histogram\n",
    "plt.hist(y)\n",
    "plt.show()"
   ]
  },
  {
   "cell_type": "code",
   "execution_count": 74,
   "metadata": {},
   "outputs": [
    {
     "data": {
      "image/png": "[encoded data removed]",
      "text/plain": [
       "<Figure size 432x288 with 1 Axes>"
      ]
     },
     "metadata": {
      "needs_background": "light"
     },
     "output_type": "display_data"
    }
   ],
   "source": [
    "plt.hist(y, bins= 40)\n",
    "plt.show()"
   ]
  },
  {
   "cell_type": "code",
   "execution_count": 81,
   "metadata": {},
   "outputs": [
    {
     "data": {
      "text/plain": [
       "array([6.02941498, 4.69021948, 4.65879533, 3.90613444, 4.69418713,\n",
       "       5.72178869, 3.21949775, 5.89135408, 3.12013907, 8.72302585,\n",
       "       3.89129659, 6.41288179, 7.05194554, 7.46442269, 4.99358514,\n",
       "       4.76006144, 5.00800456, 6.24646484, 7.67074455, 3.80355014,\n",
       "       3.89242174, 2.50682182, 5.57395373, 3.80585316, 7.20844111,\n",
       "       5.78260191, 3.00236427, 7.9261673 , 4.38105137, 4.22663131,\n",
       "       2.52277027, 5.91953596, 5.84556041, 4.56423481, 5.15296253,\n",
       "       6.86267668, 7.26828525, 5.9207731 , 3.27997557, 5.18286138,\n",
       "       6.17200301, 5.29215146, 4.0333332 , 5.42223187, 5.4511022 ,\n",
       "       4.11899407, 5.02792832, 7.77671141, 5.47694491, 7.8268291 ,\n",
       "       3.82172644, 4.20954878, 4.00132024, 5.84976024, 5.28107597,\n",
       "       5.09186052, 4.3667905 , 5.97209436, 4.85494522, 6.89977103,\n",
       "       6.00473564, 2.89959679, 5.07482494, 6.23752393, 4.71394285,\n",
       "       4.31649427, 4.56075634, 7.2365328 , 4.66116994, 6.18175759,\n",
       "       5.18638099, 7.56921255, 4.79364807, 5.8864554 , 5.57090998,\n",
       "       7.4249228 , 5.66585402, 6.74821731, 4.4545414 , 4.59662412,\n",
       "       3.27238556, 6.00288833, 6.92853186, 6.30723141, 4.10814086,\n",
       "       7.17651058, 4.44085856, 4.21506642, 8.818167  , 6.66416311,\n",
       "       7.70443361, 7.86111283, 4.66953196, 4.85488556, 4.58299643,\n",
       "       4.39899913, 6.09704464, 5.96897105, 2.96078459, 5.29436716,\n",
       "       6.48623669, 4.57445557, 5.75560174, 3.56757062, 5.69052268,\n",
       "       5.56705088, 7.09686336, 6.92232619, 5.34809055, 5.29709622,\n",
       "       8.72771004, 5.45923346, 3.64360772, 6.08956554, 4.81792374,\n",
       "       6.69421391, 6.26891467, 5.66046299, 7.76100224, 3.11010229,\n",
       "       4.29229559, 5.30888276, 2.45302861, 5.19963539, 4.19903452,\n",
       "       5.83878442, 3.52954038, 6.98781818, 6.31476103, 6.45746018,\n",
       "       6.18543304, 6.97571709, 5.45645738, 0.29645594, 6.9568579 ,\n",
       "       2.84650068, 5.39846926, 4.27881001, 6.73829649, 4.15082912,\n",
       "       5.16367293, 4.41307442, 6.90554923, 7.92380469, 8.07927571,\n",
       "       6.32685807, 3.27193255, 4.95514557, 4.80998786, 5.03166575,\n",
       "       8.33214425, 5.35060091, 5.70215144, 7.22410718, 4.70499851,\n",
       "       7.51106253, 4.51365618, 6.85076996, 4.66390282, 3.60576782,\n",
       "       4.37505486, 3.93526174, 7.0046541 , 4.91867284, 4.64956223,\n",
       "       4.92106727, 6.46279501, 6.95575736, 2.96559722, 6.20276854,\n",
       "       5.7080763 , 5.04404295, 5.31547842, 5.46872142, 4.82894401,\n",
       "       5.90377062, 5.14142342, 6.11357314, 6.40241205, 5.98752587,\n",
       "       5.74141253, 6.23294715, 4.07526495, 6.05373829, 4.63115922,\n",
       "       4.8335855 , 6.77629074, 4.63981406, 5.55913537, 6.62076618,\n",
       "       4.23097957, 4.38769531, 4.88667944, 3.28506775, 2.51024057,\n",
       "       5.10068598, 8.291478  , 6.49776565, 4.2654474 , 4.30088633,\n",
       "       5.89683822, 4.80690852, 6.38500814, 4.84798054, 6.08805432,\n",
       "       6.28626797, 5.25548255, 5.32886545, 5.12572076, 5.41551142,\n",
       "       3.74091832, 4.66918762, 4.95555125, 6.20887646, 3.05061428,\n",
       "       5.77844379, 3.62150591, 4.71616915, 6.48169529, 2.35225044,\n",
       "       8.46283486, 6.18867374, 4.0972214 , 5.28944623, 6.15620563,\n",
       "       4.12925104, 6.40272853, 4.59021909, 5.46616092, 6.00772658,\n",
       "       7.3582094 , 5.14441821, 5.8472587 , 6.76690438, 2.8817042 ,\n",
       "       6.44941828, 3.10426928, 5.93074096, 7.65778967, 9.84615305,\n",
       "       5.32505815, 5.22418098, 5.59493494, 5.0976814 , 6.06719775,\n",
       "       6.32189478, 3.46473854, 4.98828294, 5.75080319, 4.62736058,\n",
       "       4.14981068, 4.24092342, 2.6593338 , 4.67115157, 5.97856854,\n",
       "       4.17538746, 6.44138398, 5.37791978, 5.09114313, 6.22050344,\n",
       "       7.94233117, 6.75298165, 6.68158091, 6.00116414, 6.8256221 ,\n",
       "       4.00097087, 7.4597039 , 7.59459758, 7.29568935, 3.28817928,\n",
       "       7.71204818, 6.8322125 , 3.76215722, 5.64596783, 6.5134876 ,\n",
       "       6.06631485, 5.03602256, 3.86481892, 3.52498177, 4.90937906,\n",
       "       9.51794936, 5.71197506, 9.74040141, 5.81811331, 5.08480701,\n",
       "       7.78592367, 5.6469359 , 4.92559567, 4.80333123, 5.14591176,\n",
       "       6.91510807, 8.49863226, 6.48998174, 3.18193061, 4.3499877 ,\n",
       "       5.6082194 , 3.79111767, 4.41105487, 6.05004959, 4.15402806])"
      ]
     },
     "execution_count": 81,
     "metadata": {},
     "output_type": "execute_result"
    }
   ],
   "source": [
    "#creating array which values are normal (Gaussian) distribution\n",
    "array_gaussian = np.random.normal(5.5, 1.5, 300)\n",
    "array_gaussian"
   ]
  },
  {
   "cell_type": "code",
   "execution_count": 83,
   "metadata": {},
   "outputs": [
    {
     "data": {
      "image/png": "[encoded data removed]",
      "text/plain": [
       "<Figure size 432x288 with 1 Axes>"
      ]
     },
     "metadata": {
      "needs_background": "light"
     },
     "output_type": "display_data"
    }
   ],
   "source": [
    "plt.hist(array_gaussian, orientation='horizontal')\n",
    "plt.show()"
   ]
  },
  {
   "cell_type": "code",
   "execution_count": null,
   "metadata": {},
   "outputs": [],
   "source": []
  }
 ],
 "metadata": {
  "kernelspec": {
   "display_name": "Python 3",
   "language": "python",
   "name": "python3"
  },
  "language_info": {
   "codemirror_mode": {
    "name": "ipython",
    "version": 3
   },
   "file_extension": ".py",
   "mimetype": "text/x-python",
   "name": "python",
   "nbconvert_exporter": "python",
   "pygments_lexer": "ipython3",
   "version": "3.10.0"
  },
  "orig_nbformat": 4,
  "vscode": {
   "interpreter": {
    "hash": "369f2c481f4da34e4445cda3fffd2e751bd1c4d706f27375911949ba6bb62e1c"
   }
  }
 },
 "nbformat": 4,
 "nbformat_minor": 2
}
